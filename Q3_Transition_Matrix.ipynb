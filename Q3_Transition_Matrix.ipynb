{
  "nbformat": 4,
  "nbformat_minor": 0,
  "metadata": {
    "colab": {
      "provenance": []
    },
    "kernelspec": {
      "name": "python3",
      "display_name": "Python 3"
    },
    "language_info": {
      "name": "python"
    }
  },
  "cells": [
    {
      "cell_type": "code",
      "execution_count": 1,
      "metadata": {
        "colab": {
          "base_uri": "https://localhost:8080/"
        },
        "id": "Mc6wMkPrV0ZB",
        "outputId": "68ab189a-1ca9-4199-ea8b-2fd29cab92c2"
      },
      "outputs": [
        {
          "output_type": "stream",
          "name": "stdout",
          "text": [
            "Transition matrix:\n",
            "\n",
            "            A      C      G      T\n",
            "     A\t0.2500\t0.3333\t0.1250\t0.2917\t\n",
            "     C\t0.1852\t0.1852\t0.2222\t0.4074\t\n",
            "     G\t0.2632\t0.2105\t0.2632\t0.2632\t\n",
            "     T\t0.2759\t0.3793\t0.1379\t0.2069\t\n"
          ]
        }
      ],
      "source": [
        "from collections import defaultdict\n",
        "def markov_model(sequence):\n",
        "  sequence= sequence.upper().replace(\"\\n\",\"\").replace(\" \",\"\")\n",
        "  bases=['A','C','G','T']\n",
        "  dinucl_count=defaultdict(int)\n",
        "  mononucl_count=defaultdict(int)\n",
        "\n",
        "  for i in range(len(sequence)-1):\n",
        "    first=sequence[i]\n",
        "    second=sequence[i+1]\n",
        "    if first in bases and second in bases:\n",
        "      dinucl_count[(first,second)]+=1\n",
        "      mononucl_count[first]+=1\n",
        "\n",
        "  print(\"Transition matrix:\\n\")\n",
        "  print(f\"{'':>6} {'A':>6} {'C':>6} {'G':>6} {'T':>6}\")\n",
        "  for base1 in bases:\n",
        "    row=[base1]\n",
        "    for base2 in bases:\n",
        "      count = dinucl_count[(base1, base2)]\n",
        "      total = mononucl_count[base1]\n",
        "      prob = count / total if total > 0 else 0\n",
        "      row.append(f\"{prob:.4f}\")\n",
        "    print(\"\".join(f\"{val:>6}\\t\" for val in row))\n",
        "\n",
        "fasta_sequence=\"\"\"GTTCTACTTGCGGACGGATCGTAACCGAACTGGCCCGGATCTTTCATCCTCATGTAGAT\n",
        "GCACAAAAGGTTCATCTAATAGTACTACCTCTTCTACTCGC\"\"\"\n",
        "markov_model(fasta_sequence)"
      ]
    },
    {
      "cell_type": "code",
      "source": [],
      "metadata": {
        "id": "GkMF79sPV6QE"
      },
      "execution_count": null,
      "outputs": []
    }
  ]
}